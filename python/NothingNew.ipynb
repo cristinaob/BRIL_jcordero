{
 "cells": [
  {
   "cell_type": "code",
   "execution_count": 2,
   "metadata": {},
   "outputs": [
    {
     "name": "stderr",
     "output_type": "stream",
     "text": [
      "/home/jcordero/anaconda3/lib/python3.6/site-packages/root_numpy/__init__.py:46: RuntimeWarning: numpy 1.14.3 is currently installed but you installed root_numpy against numpy 1.12.1. Please consider reinstalling root_numpy for this numpy version.\n",
      "  RuntimeWarning)\n"
     ]
    }
   ],
   "source": [
    "from root_pandas import read_root\n",
    "import numpy as np\n",
    "from ROOT import TFile,TTree\n",
    "import matplotlib.pyplot as plt\n",
    "from scipy.optimize import curve_fit"
   ]
  },
  {
   "cell_type": "code",
   "execution_count": 3,
   "metadata": {},
   "outputs": [],
   "source": [
    "def exp2(x,*param):\n",
    "    lamb, x0, N ,y0 = param \n",
    "    return N*np.exp(-lamb*(x - x0)) + y0 \n",
    "def exp(x,*param):\n",
    "    lamb, x0, N = param \n",
    "    return N*np.exp(-lamb*(x - x0))\n",
    "def poly2(x,*param):\n",
    "    return param[0] + param[1]*x + param[2]*x*x\n",
    "\n",
    "def chi2(x,sig,func,parm):\n",
    "    chi = 0\n",
    "    for xi,si in zip(x,sig):\n",
    "        chi+= ((func(x,*parm)-xi)**2)/(si)**2\n",
    "    return chi"
   ]
  },
  {
   "cell_type": "code",
   "execution_count": 4,
   "metadata": {},
   "outputs": [
    {
     "name": "stderr",
     "output_type": "stream",
     "text": [
      "TClass::Init:0: RuntimeWarning: no dictionary for class ROOT::TIOFeatures is available\n"
     ]
    },
    {
     "ename": "KeyboardInterrupt",
     "evalue": "",
     "output_type": "error",
     "traceback": [
      "\u001b[0;31m---------------------------------------------------------------------------\u001b[0m",
      "\u001b[0;31mKeyboardInterrupt\u001b[0m                         Traceback (most recent call last)",
      "\u001b[0;32m<ipython-input-4-471f5a58c195>\u001b[0m in \u001b[0;36m<module>\u001b[0;34m()\u001b[0m\n\u001b[1;32m     16\u001b[0m     \u001b[0mfiles\u001b[0m \u001b[0;34m=\u001b[0m \u001b[0mTFile\u001b[0m\u001b[0;34m(\u001b[0m\u001b[0mPath\u001b[0m\u001b[0;34m+\u001b[0m\u001b[0;34m'Cluster_'\u001b[0m\u001b[0;34m+\u001b[0m\u001b[0mpu\u001b[0m\u001b[0;34m+\u001b[0m\u001b[0;34m'.0_01.root'\u001b[0m\u001b[0;34m)\u001b[0m\u001b[0;34m\u001b[0m\u001b[0m\n\u001b[1;32m     17\u001b[0m     \u001b[0mtree\u001b[0m\u001b[0;34m[\u001b[0m\u001b[0mpu\u001b[0m\u001b[0;34m]\u001b[0m \u001b[0;34m=\u001b[0m \u001b[0mfiles\u001b[0m\u001b[0;34m.\u001b[0m\u001b[0mGet\u001b[0m\u001b[0;34m(\u001b[0m\u001b[0;34m'cluster_tree'\u001b[0m\u001b[0;34m)\u001b[0m\u001b[0;34m\u001b[0m\u001b[0m\n\u001b[0;32m---> 18\u001b[0;31m     \u001b[0;32mfor\u001b[0m \u001b[0mt\u001b[0m \u001b[0;32min\u001b[0m \u001b[0mtree\u001b[0m\u001b[0;34m[\u001b[0m\u001b[0mpu\u001b[0m\u001b[0;34m]\u001b[0m\u001b[0;34m:\u001b[0m\u001b[0;34m\u001b[0m\u001b[0m\n\u001b[0m\u001b[1;32m     19\u001b[0m         \u001b[0mx\u001b[0m\u001b[0;34m.\u001b[0m\u001b[0mappend\u001b[0m\u001b[0;34m(\u001b[0m\u001b[0mt\u001b[0m\u001b[0;34m.\u001b[0m\u001b[0mCluX\u001b[0m\u001b[0;34m)\u001b[0m\u001b[0;34m\u001b[0m\u001b[0m\n\u001b[1;32m     20\u001b[0m         \u001b[0my\u001b[0m\u001b[0;34m.\u001b[0m\u001b[0mappend\u001b[0m\u001b[0;34m(\u001b[0m\u001b[0mt\u001b[0m\u001b[0;34m.\u001b[0m\u001b[0mCluY\u001b[0m\u001b[0;34m)\u001b[0m\u001b[0;34m\u001b[0m\u001b[0m\n",
      "\u001b[0;32m~/anaconda3/envs/CMSenv/lib/ROOT.py\u001b[0m in \u001b[0;36m_TTree__iter__\u001b[0;34m(self)\u001b[0m\n\u001b[1;32m    216\u001b[0m       \u001b[0;32myield\u001b[0m \u001b[0mself\u001b[0m                   \u001b[0;31m# TODO: not sure how to do this w/ C-API ...\u001b[0m\u001b[0;34m\u001b[0m\u001b[0m\n\u001b[1;32m    217\u001b[0m       \u001b[0mi\u001b[0m \u001b[0;34m+=\u001b[0m \u001b[0;36m1\u001b[0m\u001b[0;34m\u001b[0m\u001b[0m\n\u001b[0;32m--> 218\u001b[0;31m       \u001b[0mbytes_read\u001b[0m \u001b[0;34m=\u001b[0m \u001b[0mself\u001b[0m\u001b[0;34m.\u001b[0m\u001b[0mGetEntry\u001b[0m\u001b[0;34m(\u001b[0m\u001b[0mi\u001b[0m\u001b[0;34m)\u001b[0m\u001b[0;34m\u001b[0m\u001b[0m\n\u001b[0m\u001b[1;32m    219\u001b[0m \u001b[0;34m\u001b[0m\u001b[0m\n\u001b[1;32m    220\u001b[0m    \u001b[0;32mif\u001b[0m \u001b[0mbytes_read\u001b[0m \u001b[0;34m==\u001b[0m \u001b[0;34m-\u001b[0m\u001b[0;36m1\u001b[0m\u001b[0;34m:\u001b[0m\u001b[0;34m\u001b[0m\u001b[0m\n",
      "\u001b[0;31mKeyboardInterrupt\u001b[0m: "
     ]
    }
   ],
   "source": [
    "Path='/home/jcordero/CMS/BRIL/data/Cluster/'\n",
    "x,y,z = [],[],[]\n",
    "phi,theta = [],[]\n",
    "merge = []\n",
    "\n",
    "file,tree = {},{}\n",
    "\n",
    "PU = ['0','1','10','20','75']\n",
    "#PU = ['20']\n",
    "#PU=['2']\n",
    "\n",
    "for pu in PU:\n",
    "    #files[pu] = read_root(Path+'Cluster_'+pu+'.0.root')\n",
    "    #files = TFile(Path+'Cluster_'+pu+'.0.root')\n",
    "    #files = TFile(Path+'Cluster_'+pu+'.root')\n",
    "    files = TFile(Path+'Cluster_'+pu+'.0_01.root')\n",
    "    tree[pu] = files.Get('cluster_tree') \n",
    "    for t in tree[pu]:\n",
    "        x.append(t.CluX)\n",
    "        y.append(t.CluY)\n",
    "        z.append(t.CluZ)\n",
    "        phi.append(t.CluPhi)\n",
    "        theta.append(t.CluTheta)\n",
    "        merge.append(t.CluMerge)"
   ]
  },
  {
   "cell_type": "code",
   "execution_count": 4,
   "metadata": {},
   "outputs": [
    {
     "ename": "OSError",
     "evalue": "cannot read /home/jcordero/CMS/BRIL/data/Cluster/Cluster_2.root",
     "output_type": "error",
     "traceback": [
      "\u001b[0;31m---------------------------------------------------------------------------\u001b[0m",
      "\u001b[0;31mOSError\u001b[0m                                   Traceback (most recent call last)",
      "\u001b[0;32m<ipython-input-4-76099edf0d69>\u001b[0m in \u001b[0;36m<module>\u001b[0;34m()\u001b[0m\n\u001b[0;32m----> 1\u001b[0;31m \u001b[0mDF\u001b[0m \u001b[0;34m=\u001b[0m \u001b[0mread_root\u001b[0m\u001b[0;34m(\u001b[0m\u001b[0mPath\u001b[0m\u001b[0;34m+\u001b[0m\u001b[0;34m'Cluster_'\u001b[0m\u001b[0;34m+\u001b[0m\u001b[0mpu\u001b[0m\u001b[0;34m+\u001b[0m\u001b[0;34m'.root'\u001b[0m\u001b[0;34m)\u001b[0m\u001b[0;34m\u001b[0m\u001b[0m\n\u001b[0m",
      "\u001b[0;32m~/anaconda3/lib/python3.6/site-packages/root_pandas/readwrite.py\u001b[0m in \u001b[0;36mread_root\u001b[0;34m(paths, key, columns, ignore, chunksize, where, flatten, *args, **kwargs)\u001b[0m\n\u001b[1;32m    203\u001b[0m     \u001b[0;31m# Use a single file to search for trees and branches, ensuring the key exists\u001b[0m\u001b[0;34m\u001b[0m\u001b[0;34m\u001b[0m\u001b[0m\n\u001b[1;32m    204\u001b[0m     \u001b[0;32mfor\u001b[0m \u001b[0mseed_path\u001b[0m \u001b[0;32min\u001b[0m \u001b[0mpaths\u001b[0m\u001b[0;34m:\u001b[0m\u001b[0;34m\u001b[0m\u001b[0m\n\u001b[0;32m--> 205\u001b[0;31m         \u001b[0mtrees\u001b[0m \u001b[0;34m=\u001b[0m \u001b[0mlist_trees\u001b[0m\u001b[0;34m(\u001b[0m\u001b[0mseed_path\u001b[0m\u001b[0;34m)\u001b[0m\u001b[0;34m\u001b[0m\u001b[0m\n\u001b[0m\u001b[1;32m    206\u001b[0m         \u001b[0;32mif\u001b[0m \u001b[0mkey\u001b[0m \u001b[0;32mand\u001b[0m \u001b[0mkey\u001b[0m \u001b[0;32mnot\u001b[0m \u001b[0;32min\u001b[0m \u001b[0mtrees\u001b[0m\u001b[0;34m:\u001b[0m\u001b[0;34m\u001b[0m\u001b[0m\n\u001b[1;32m    207\u001b[0m             \u001b[0;32mcontinue\u001b[0m\u001b[0;34m\u001b[0m\u001b[0m\n",
      "\u001b[0;32m~/anaconda3/lib/python3.6/site-packages/root_numpy/_tree.py\u001b[0m in \u001b[0;36mlist_trees\u001b[0;34m(filename)\u001b[0m\n\u001b[1;32m     53\u001b[0m \u001b[0;34m\u001b[0m\u001b[0m\n\u001b[1;32m     54\u001b[0m     \"\"\"\n\u001b[0;32m---> 55\u001b[0;31m     \u001b[0;32mreturn\u001b[0m \u001b[0m_librootnumpy\u001b[0m\u001b[0;34m.\u001b[0m\u001b[0mlist_trees\u001b[0m\u001b[0;34m(\u001b[0m\u001b[0mfilename\u001b[0m\u001b[0;34m)\u001b[0m\u001b[0;34m\u001b[0m\u001b[0m\n\u001b[0m\u001b[1;32m     56\u001b[0m \u001b[0;34m\u001b[0m\u001b[0m\n\u001b[1;32m     57\u001b[0m \u001b[0;34m\u001b[0m\u001b[0m\n",
      "\u001b[0;32mroot_numpy/src/tree.pyx\u001b[0m in \u001b[0;36m_librootnumpy.list_trees (root_numpy/src/_librootnumpy.cpp:54)\u001b[0;34m()\u001b[0m\n",
      "\u001b[0;32mroot_numpy/src/tree.pyx\u001b[0m in \u001b[0;36m_librootnumpy.list_objects (root_numpy/src/_librootnumpy.cpp:45)\u001b[0;34m()\u001b[0m\n",
      "\u001b[0;31mOSError\u001b[0m: cannot read /home/jcordero/CMS/BRIL/data/Cluster/Cluster_2.root"
     ]
    }
   ],
   "source": [
    "DF = read_root(Path+'Cluster_'+pu+'.root')"
   ]
  },
  {
   "cell_type": "code",
   "execution_count": null,
   "metadata": {},
   "outputs": [],
   "source": []
  },
  {
   "cell_type": "code",
   "execution_count": null,
   "metadata": {},
   "outputs": [],
   "source": [
    "x      = np.array(x)\n",
    "y      = np.array(y)\n",
    "z      = np.array(z)\n",
    "phi    = np.array(phi)\n",
    "theta  = np.array(theta)\n",
    "merge  = np.array(merge)\n",
    "r      = np.sqrt(x**2 + y**2)"
   ]
  },
  {
   "cell_type": "code",
   "execution_count": null,
   "metadata": {
    "code_folding": [
     17,
     24,
     51
    ]
   },
   "outputs": [],
   "source": [
    "'''\n",
    "rMaskRange = {\n",
    "                1:[6.5,9.8],\n",
    "                2:[10.9,13.6],\n",
    "                3:[14.6,17.3],\n",
    "                4:[18.3,20.9],\n",
    "                5:[21.9,25.3],\n",
    "                }\n",
    "''';\n",
    "rMaskRange = {\n",
    "                1:[6.5,9.7],\n",
    "                2:[10.9,13.7],\n",
    "                3:[14.5,17.3],\n",
    "                4:[18.4,20.9],\n",
    "                5:[21.9,25.3],\n",
    "                }\n",
    "\n",
    "zMaskRange = {\n",
    "                1:[174,176],\n",
    "                2:[200,202],\n",
    "                3:[230,232],\n",
    "                4:[264,266],\n",
    "                }\n",
    "\n",
    "zMaskRangeInner = {\n",
    "                    1:{\n",
    "                        1:[174  ,174.5],\n",
    "                        2:[174.5,175  ],\n",
    "                        3:[175  ,175.5],\n",
    "                        4:[175.5,176 ],\n",
    "                    },\n",
    "                    2:{\n",
    "                        1:[200  ,200.5],\n",
    "                        2:[200.5,201  ],\n",
    "                        3:[201  ,201.5],\n",
    "                        4:[202.5,203  ],\n",
    "                    },\n",
    "                    3:{\n",
    "                        1:[230  ,230.5],\n",
    "                        2:[230.5,230.7],\n",
    "                        3:[231.7,231.2],\n",
    "                        4:[231.2,231.6],\n",
    "                    },\n",
    "                    4:{\n",
    "                        1:[264  ,264.5],\n",
    "                        2:[264.5,265  ],\n",
    "                        3:[265  ,265.5],\n",
    "                        4:[265.5,266   ],\n",
    "                    },\n",
    "                    }\n",
    "    \n",
    "NRing = {\n",
    "        1:10,\n",
    "        2:14,\n",
    "        3:18,\n",
    "        4:22,\n",
    "        5:24\n",
    "        }    "
   ]
  },
  {
   "cell_type": "code",
   "execution_count": null,
   "metadata": {},
   "outputs": [],
   "source": [
    "Disk = {}\n",
    "InnerDisk = {}\n",
    "Ring = {}\n",
    "for zi in zMaskRange:\n",
    "    PosD= np.logical_and( z > zMaskRange[zi][0] , z < zMaskRange[zi][1])\n",
    "    NegD= np.logical_and( z < -zMaskRange[zi][0] , z > -zMaskRange[zi][1])\n",
    "    NegD = PosD\n",
    "    Disk[zi] = np.logical_or(PosD,NegD) \n",
    "    InnerDisk[zi] = {}\n",
    "    for inzi in zMaskRangeInner[zi]:\n",
    "        InnerPosD = np.logical_and( z > zMaskRangeInner[zi][inzi][0] , z < zMaskRangeInner[zi][inzi][1])\n",
    "        InnerNegD = np.logical_and( z < -zMaskRangeInner[zi][inzi][0] , z > -zMaskRangeInner[zi][inzi][1])\n",
    "        InnerNegD = InnerPosD \n",
    "        InnerDisk[zi][inzi] = np.logical_or(InnerPosD, InnerNegD)\n",
    "        \n",
    "for ri in rMaskRange:\n",
    "    Ring[ri] = np.logical_and( r > rMaskRange[ri][0] , r < rMaskRange[ri][1])"
   ]
  },
  {
   "cell_type": "code",
   "execution_count": null,
   "metadata": {},
   "outputs": [],
   "source": []
  },
  {
   "cell_type": "code",
   "execution_count": null,
   "metadata": {
    "scrolled": false
   },
   "outputs": [],
   "source": [
    "mask = []\n",
    "n = 0\n",
    "#P0 = [1,0,2000,0]\n",
    "P0 = [1,0,1000]\n",
    "\n",
    "plt.figure(figsize=(10,10))\n",
    "for di in Disk:\n",
    "    for ri in Ring:\n",
    "        #mask[n] = np.logical_and(Disk[di],Ring[ri]) \n",
    "        mask = np.logical_and(Disk[di],Ring[ri]) \n",
    "        n+=1\n",
    "        plt.subplot(4,5,n)\n",
    "        hist = plt.hist(\n",
    "                        r[mask],\n",
    "                        bins = 40,\n",
    "                        histtype = 'step',\n",
    "                        )\n",
    "        plt.title('Disk '+str(di)+' Ring '+str(ri))\n",
    "        plt.grid(linestyle='--')\n",
    "        \n",
    "        X,Y = hist[1],hist[0]\n",
    "        xc = (X[:-1]+X[1:])/2\n",
    "        \n",
    "        #func = exp\n",
    "        func = poly2\n",
    "        parm = curve_fit(func,xc,Y,p0=P0)\n",
    "        plt.plot(xc,func(xc,*parm[0]))\n",
    "        \n",
    "        sig = []\n",
    "        for i in range(len(parm[1])):\n",
    "            sig.append(parm[1][i][i])\n",
    "        #print(chi2(xc,sig,func,parm))\n",
    "        \n",
    "plt.tight_layout()\n",
    "        "
   ]
  },
  {
   "cell_type": "markdown",
   "metadata": {},
   "source": [
    "##### hist"
   ]
  },
  {
   "cell_type": "code",
   "execution_count": null,
   "metadata": {},
   "outputs": [],
   "source": [
    "mask = []\n",
    "n = 0\n",
    "#P0 = [1,0,2000,0]\n",
    "P0 = [1,0,1000]\n",
    "\n",
    "plt.figure(figsize=(10,10))\n",
    "for di in Disk:\n",
    "    mask = Disk[di]\n",
    "    mask_nonOverlap = Ring[1]\n",
    "    for ri in range(2,len(Ring)):\n",
    "        mask_nonOverlap = np.logical_or(mask_nonOverlap,Ring[ri])\n",
    "    mask = np.logical_and(mask,mask_nonOverlap)\n",
    "    \n",
    "    n+=1\n",
    "    plt.subplot(2,2,n)\n",
    "    hist = plt.hist(\n",
    "                    r[mask],\n",
    "                    bins = 40,\n",
    "                    histtype = 'step',\n",
    "                    )\n",
    "    plt.title('Disk '+str(di))\n",
    "    plt.grid(linestyle='--')\n",
    "\n",
    "    X,Y = hist[1],hist[0]\n",
    "    xc = (X[:-1]+X[1:])/2\n",
    "\n",
    "    #func = exp\n",
    "    func = poly2\n",
    "    parm = curve_fit(func,xc,Y,p0=P0)\n",
    "    plt.plot(xc,func(xc,*parm[0]))\n",
    "\n",
    "    sig = []\n",
    "    for i in range(len(parm[1])):\n",
    "        sig.append(parm[1][i][i])\n",
    "    #print(chi2(xc,sig,func,parm))\n",
    "        \n",
    "plt.tight_layout()"
   ]
  },
  {
   "cell_type": "code",
   "execution_count": null,
   "metadata": {},
   "outputs": [],
   "source": [
    "mask= [True for _ in x]\n",
    "plt.figure(figsize=(10,10))\n",
    "h=plt.hist2d(x[mask],y[mask],bins = 1000);\n",
    "################\n",
    "x0=0.5\n",
    "#X = np.arange(x0,2,step=0.1)\n",
    "Y = np.arange(0,26,step=0.1)\n",
    "m = 20\n",
    "Xmin = Y/m+x0\n",
    "plt.plot(Xmin,Y,'r')\n",
    "###############\n",
    "x0=0.8\n",
    "m = 20\n",
    "Xmax = Y/m+x0\n",
    "plt.plot(Xmax,Y,'y')\n",
    "\n",
    "#maskX = np.logical_and(x>min(Xmin),x < max(Xmax))\n",
    "#maskY = np.logical_and(y>min(Y),y < max(Y))\n",
    "#mask = np.logical_and(maskX,maskY)\n",
    "\n",
    "xc = h[1][:-1] + h[1][1:]\n",
    "yc = h[2][:-1] + h[2][1:]\n",
    "mask = np.logical_and(x-y/m > 0.5 , x-y/m < 0.8)\n",
    "mask = np.logical_and(mask,y>0)\n",
    "\n",
    "plt.figure(figsize=(10,10))\n",
    "plt.hist2d(x[mask],y[mask],bins = 1000);\n",
    "ax = plt.gca()\n",
    "ax.set_xlim([-26,26])\n",
    "ax.set_ylim([-26,26])"
   ]
  },
  {
   "cell_type": "code",
   "execution_count": null,
   "metadata": {},
   "outputs": [],
   "source": [
    "################\n",
    "x0=0.5\n",
    "Y = np.arange(0,max(y),step=max(y)/1000.0)\n",
    "m = 20\n",
    "Xmin = Y/m+x0\n",
    "###############\n",
    "x0=0.8\n",
    "m = 20\n",
    "Xmax = Y/m+x0\n",
    "###############\n",
    "\n",
    "xc = (h[1][:-1] + h[1][1:])/2\n",
    "yc = (h[2][:-1] + h[2][1:])/2\n",
    "ind = np.logical_and(x-y/m > 0.5 , x-y/m < 0.8)\n",
    "plt.hist(r[ind],\n",
    "         bins = 30,\n",
    "       )\n",
    "plt.show();"
   ]
  },
  {
   "cell_type": "code",
   "execution_count": null,
   "metadata": {},
   "outputs": [],
   "source": []
  },
  {
   "cell_type": "code",
   "execution_count": null,
   "metadata": {},
   "outputs": [],
   "source": [
    "d = 2\n",
    "mask= np.logical_or(InnerDisk[d][1],InnerDisk[d][2])\n",
    "plt.figure(figsize=(10,10))\n",
    "plt.hist2d(x[mask],y[mask],bins = 300);"
   ]
  },
  {
   "cell_type": "code",
   "execution_count": null,
   "metadata": {
    "code_folding": [
     0
    ]
   },
   "outputs": [],
   "source": [
    "d = 1\n",
    "mask = InnerDisk[d][1]\n",
    "#mask= np.logical_or(InnerDisk[d][3],InnerDisk[d][4])\n",
    "#mask= np.logical_and(InnerDisk[d][3],InnerDisk[d][4])\n",
    "\n",
    "######################################################\n",
    "#intX12 = np.intersect1d(x[InnerDisk[d][1]],x[InnerDisk[d][2]])\n",
    "#intX23 = np.intersect1d(x[InnerDisk[d][2]],x[InnerDisk[d][3]])\n",
    "#intX34 = np.intersect1d(x[InnerDisk[d][3]],x[InnerDisk[d][4]])\n",
    "#xinc = [(xi in intX12) and (xi in x[InnerDisk[d][2]]) for xi in x]\n",
    "#xinc = [(xi in intX12)  for xi in x]\n",
    "###########################\n",
    "#intY12 = np.intersect1d(y[InnerDisk[d][1]],y[InnerDisk[d][2]])\n",
    "#intY23 = np.intersect1d(y[InnerDisk[d][2]],y[InnerDisk[d][3]])\n",
    "#intY34 = np.intersect1d(y[InnerDisk[d][3]],y[InnerDisk[d][4]])\n",
    "#yinc = [(yi in intY12) and (yi in y[InnerDisk[d][2]]) for yi in y]\n",
    "#yinc = [(yi in intY12)  for yi in y]\n",
    "\n",
    "#maskInt = np.logical_and(xinc,yinc)\n",
    "#mask = np.logical_and(xinc,yinc)\n",
    "######################################################\n",
    "\n",
    "#mask = np.logical_and(mask,maskInt)\n",
    "plt.figure(figsize=(10,10))\n",
    "plt.hist2d(x[mask],y[mask],bins = 300);\n",
    "\n",
    "################\n",
    "x0=-0.3\n",
    "#X = np.arange(x0,2,step=0.1)\n",
    "Y = np.arange(0,26,step=0.1)\n",
    "m = 15\n",
    "Xmin = Y/m+x0\n",
    "plt.plot(Xmin,Y,'r')\n",
    "###############\n",
    "x0=0.3\n",
    "m = 15\n",
    "Xmax = Y/m+x0\n",
    "plt.plot(Xmax,Y,'y')"
   ]
  },
  {
   "cell_type": "code",
   "execution_count": null,
   "metadata": {},
   "outputs": [],
   "source": []
  },
  {
   "cell_type": "code",
   "execution_count": null,
   "metadata": {},
   "outputs": [],
   "source": [
    "d = 1\n",
    "mask= Disk[d]\n",
    "plt.figure(figsize=(10,10))\n",
    "plt.hist2d(x[mask],y[mask],bins = 1000);\n",
    "\n"
   ]
  },
  {
   "cell_type": "code",
   "execution_count": null,
   "metadata": {},
   "outputs": [],
   "source": []
  },
  {
   "cell_type": "code",
   "execution_count": null,
   "metadata": {},
   "outputs": [],
   "source": []
  },
  {
   "cell_type": "code",
   "execution_count": null,
   "metadata": {},
   "outputs": [],
   "source": []
  },
  {
   "cell_type": "code",
   "execution_count": null,
   "metadata": {},
   "outputs": [],
   "source": [
    "mask = []\n",
    "n = 0\n",
    "#P0 = [1,0,2000,0]\n",
    "P0 = [1,0,1000]\n",
    "\n",
    "#################\n",
    "x0=0.6\n",
    "Y = np.arange(0,26,step=26/len(y))\n",
    "m = 20\n",
    "Xmin = Y/m+x0\n",
    "#################\n",
    "x0=0.7\n",
    "m = 20\n",
    "Xmax = Y/m+x0\n",
    "##################\n",
    "\n",
    "\n",
    "plt.figure(figsize=(10,10))\n",
    "for di in Disk:\n",
    "    mask = Disk[di]\n",
    "    #mask = [True for _ in x]\n",
    "    mask_nonOverlap = Ring[1]\n",
    "    for ri in range(2,len(Ring)):\n",
    "        mask_nonOverlap = np.logical_or(mask_nonOverlap,Ring[ri])\n",
    "    mask = np.logical_and(mask,mask_nonOverlap)\n",
    "    \n",
    "    #maskPos = np.logical_and(x-y/m > 0.5, x-y/m <0.8)\n",
    "    \n",
    "    #mask = np.logical_and(mask,maskPos)\n",
    "    \n",
    "    \n",
    "    n+=1\n",
    "    plt.subplot(2,2,n)\n",
    "    hist = plt.hist(\n",
    "                    r[mask],\n",
    "                    bins = 40,\n",
    "                    histtype = 'step',\n",
    "                    )\n",
    "    plt.title('Disk '+str(di))\n",
    "    plt.grid(linestyle='--')\n",
    "\n",
    "    X,Y = hist[1],hist[0]\n",
    "    Xc = (X[:-1]+X[1:])/2\n",
    "    xc,yc = [],[]\n",
    "    for i in range(len(Y)):\n",
    "        if Y[i]!=0:\n",
    "            xc.append(Xc[i])\n",
    "            yc.append(Y[i])\n",
    "\n",
    "    #func = exp\n",
    "    func = exp2\n",
    "    #func = poly2\n",
    "    if func == exp2:\n",
    "        P0 = [0.2,7,200,0]\n",
    "    elif func == exp:\n",
    "        P0 = [0.2,7,200]\n",
    "    elif func == poly:\n",
    "        P0 = [10,-1,10]   \n",
    "    \n",
    "    plt.plot(xc,yc)\n",
    "    parm = curve_fit(func,xc,yc,p0=P0)\n",
    "    plt.plot(xc,func(xc,*parm[0]))\n",
    "\n",
    "    sig = []\n",
    "    for i in range(len(parm[1])):\n",
    "        sig.append(parm[1][i][i])\n",
    "    #print(chi2(xc,sig,func,parm))\n",
    "        \n",
    "plt.tight_layout()"
   ]
  },
  {
   "cell_type": "code",
   "execution_count": null,
   "metadata": {},
   "outputs": [],
   "source": [
    "plt.figure(figsize=(10,10))\n",
    "plt.hist2d(x[mask],y[mask],bins=1000)"
   ]
  },
  {
   "cell_type": "code",
   "execution_count": null,
   "metadata": {},
   "outputs": [],
   "source": [
    "n = 0\n",
    "plt.figure(figsize=(10,10))\n",
    "for di in Disk:\n",
    "    mask = Disk[di]\n",
    "    mask_nonOverlap = Ring[1]\n",
    "    #for ri in range(2,len(Ring)):\n",
    "    #    mask_nonOverlap = np.logical_or(mask_nonOverlap,Ring[ri])\n",
    "    mask = np.logical_and(mask,mask_nonOverlap)\n",
    "    \n",
    "    n+=1\n",
    "    plt.subplot(2,2,n)\n",
    "    plt.hist(\n",
    "            phi[mask],bins = 100,\n",
    "            histtype = 'step'\n",
    "            )\n",
    "\n",
    "    \n",
    "plt.figure(figsize=(10,10))    \n",
    "plt.hist2d(x[mask],y[mask],bins = 1000)\n",
    "plt.show();"
   ]
  },
  {
   "cell_type": "code",
   "execution_count": null,
   "metadata": {},
   "outputs": [],
   "source": []
  },
  {
   "cell_type": "code",
   "execution_count": null,
   "metadata": {},
   "outputs": [],
   "source": [
    "d,din = 1,2\n",
    "R = []\n",
    "\n",
    "plt.figure(figsize=(7,7))\n",
    "for di in [1,2]:#InnerDisk:\n",
    "    #plt.figure()\n",
    "    #Mask = InnerDisk[d][di]\n",
    "    Mask = np.logical_or(InnerDisk[d][di],InnerDisk[d][di+2])\n",
    "    mask_nonOverlap = Ring[1]\n",
    "    for ri in range(2,len(Ring)+1):\n",
    "        mask_nonOverlap = np.logical_or(mask_nonOverlap,Ring[ri])\n",
    "    Mask = np.logical_and(Mask,mask_nonOverlap)\n",
    "    \n",
    "    for ri in Ring:\n",
    "        mask = Ring[ri]\n",
    "        mask = np.logical_and(mask,Mask)\n",
    "        \n",
    "        h = plt.hist(r[mask],\n",
    "                histtype = 'step',\n",
    "                weights = [1/NRing[ri] for _ in r[mask]],\n",
    "                range = [5,27],\n",
    "                bins = (27-5)*2,    \n",
    "                )\n",
    "        R.append(h)\n",
    "plt.grid(linestyle='--')\n",
    "        \n",
    "    \n",
    "\n",
    "\n",
    "\n"
   ]
  },
  {
   "cell_type": "code",
   "execution_count": null,
   "metadata": {},
   "outputs": [],
   "source": [
    "d = 1\n",
    "R,wei = [],[]\n",
    "\n",
    "plt.figure(figsize=(7,7))\n",
    "\n",
    "mask = [False for _ in z]\n",
    "mask_nonOverlap = [False for _ in z]\n",
    "\n",
    "for ri in Ring:\n",
    "    mask_nonOverlap = np.logical_or(mask_nonOverlap,Ring[ri])\n",
    "    Mask = np.logical_or(mask,Disk[d])\n",
    "    mask = np.logical_and(Mask,Ring[ri])\n",
    "    R.append(r[mask])\n",
    "    wei.append([1/NRing[ri] for _ in r[mask]])\n",
    "    \n",
    "h = plt.hist(\n",
    "        R,\n",
    "        histtype = 'step',\n",
    "        weights = wei,\n",
    "        range = [6,26],\n",
    "        bins = 200,    \n",
    "        )    \n",
    "\n",
    "plt.grid(linestyle='--')\n",
    "        \n",
    "    \n",
    "\n",
    "\n",
    "\n"
   ]
  },
  {
   "cell_type": "code",
   "execution_count": null,
   "metadata": {},
   "outputs": [],
   "source": [
    "data = np.array(sum(h[0]))\n",
    "mask = data!=0\n",
    "\n",
    "xc = (h[1][:-1]+h[1][1:])/2\n",
    "plt.plot(xc[mask],data[mask])\n",
    "func = exp2\n",
    "parm = curve_fit(func,xc,data,p0=[2,6,500,0])\n",
    "plt.plot(xc,func(xc,*parm[0]),'-k')\n",
    "plt.plot(xc,func(xc,*[]),'-k')"
   ]
  },
  {
   "cell_type": "code",
   "execution_count": null,
   "metadata": {},
   "outputs": [],
   "source": [
    "data"
   ]
  },
  {
   "cell_type": "markdown",
   "metadata": {},
   "source": []
  },
  {
   "cell_type": "code",
   "execution_count": null,
   "metadata": {},
   "outputs": [],
   "source": []
  },
  {
   "cell_type": "code",
   "execution_count": null,
   "metadata": {},
   "outputs": [],
   "source": []
  },
  {
   "cell_type": "code",
   "execution_count": null,
   "metadata": {},
   "outputs": [],
   "source": []
  },
  {
   "cell_type": "code",
   "execution_count": null,
   "metadata": {},
   "outputs": [],
   "source": []
  },
  {
   "cell_type": "code",
   "execution_count": null,
   "metadata": {},
   "outputs": [],
   "source": []
  },
  {
   "cell_type": "code",
   "execution_count": null,
   "metadata": {},
   "outputs": [],
   "source": []
  },
  {
   "cell_type": "code",
   "execution_count": null,
   "metadata": {},
   "outputs": [],
   "source": []
  },
  {
   "cell_type": "code",
   "execution_count": null,
   "metadata": {},
   "outputs": [],
   "source": []
  },
  {
   "cell_type": "code",
   "execution_count": null,
   "metadata": {},
   "outputs": [],
   "source": []
  }
 ],
 "metadata": {
  "kernelspec": {
   "display_name": "Python 3",
   "language": "python",
   "name": "python3"
  },
  "language_info": {
   "codemirror_mode": {
    "name": "ipython",
    "version": 3
   },
   "file_extension": ".py",
   "mimetype": "text/x-python",
   "name": "python",
   "nbconvert_exporter": "python",
   "pygments_lexer": "ipython3",
   "version": "3.6.5"
  }
 },
 "nbformat": 4,
 "nbformat_minor": 2
}
